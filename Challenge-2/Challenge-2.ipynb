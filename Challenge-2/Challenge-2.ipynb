{
 "cells": [
  {
   "cell_type": "markdown",
   "id": "0ecc3d33-fcd7-4dcd-af6f-f8ab0f58fc99",
   "metadata": {},
   "source": [
    "# Banglish to Bangla Transliteration\n",
    "This notebook contains the implementation of a model to convert Banglish text into Bangla script."
   ]
  },
  {
   "cell_type": "code",
   "execution_count": null,
   "id": "098707f0-9099-4a16-8987-571141fcc745",
   "metadata": {},
   "outputs": [],
   "source": []
  }
 ],
 "metadata": {
  "kernelspec": {
   "display_name": "Python 3 (ipykernel)",
   "language": "python",
   "name": "python3"
  },
  "language_info": {
   "codemirror_mode": {
    "name": "ipython",
    "version": 3
   },
   "file_extension": ".py",
   "mimetype": "text/x-python",
   "name": "python",
   "nbconvert_exporter": "python",
   "pygments_lexer": "ipython3",
   "version": "3.12.3"
  }
 },
 "nbformat": 4,
 "nbformat_minor": 5
}
