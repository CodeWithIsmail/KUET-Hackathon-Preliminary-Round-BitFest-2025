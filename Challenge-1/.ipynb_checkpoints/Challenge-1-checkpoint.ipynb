{
 "cells": [
  {
   "cell_type": "markdown",
   "id": "4701b2d9-5986-42ac-aace-1e8c5ade9af0",
   "metadata": {},
   "source": [
    "# Importing and loading datasets"
   ]
  },
  {
   "cell_type": "code",
   "execution_count": null,
   "id": "8f5961da-3a6a-4c3a-8b80-4c4364af8fd3",
   "metadata": {},
   "outputs": [],
   "source": [
    "import gc\n",
    "import torch\n",
    "from datasets import load_dataset\n",
    "from transformers import AutoTokenizer, AutoModelForSeq2SeqLM, Trainer, TrainingArguments, DataCollatorForSeq2Seq\n",
    "\n",
    "# Load the Banglish-to-Bengali dataset\n",
    "dataset = load_dataset(\"SKNahin/bengali-transliteration-data\")\n",
    "\n",
    "# Split into training and validation sets\n",
    "train_test_split = dataset['train'].train_test_split(test_size=0.2)\n",
    "train_data = train_test_split['train']\n",
    "val_data = train_test_split['test']\n"
   ]
  },
  {
   "cell_type": "markdown",
   "id": "8aab4e5b-e0f1-4f65-9011-1d51c3fe3fc1",
   "metadata": {},
   "source": [
    "# Tokenizing and selecting model to preprocess and separate train_test data"
   ]
  },
  {
   "cell_type": "code",
   "execution_count": null,
   "id": "75f8a2fa-616f-40c5-96c7-f6006c340bdc",
   "metadata": {},
   "outputs": [],
   "source": [
    "\n",
    "tokenizer = AutoTokenizer.from_pretrained(\"google/mt5-small\")\n",
    "model = AutoModelForSeq2SeqLM.from_pretrained(\"google/mt5-small\")\n",
    "\n",
    "# Preprocessing function for tokenizing Banglish and Bengali text\n",
    "def preprocess_data(example):\n",
    "    inputs = tokenizer(example['rm'], padding=\"max_length\", truncation=True, max_length=30)  # Shorter max_length\n",
    "    targets = tokenizer(example['bn'], padding=\"max_length\", truncation=True, max_length=30)  # Shorter max_length\n",
    "    inputs[\"labels\"] = targets[\"input_ids\"]\n",
    "    return inputs\n",
    "\n",
    "# Apply preprocessing to training and validation datasets\n",
    "train_data = train_data.map(preprocess_data, batched=True)\n",
    "val_data = val_data.map(preprocess_data, batched=True)\n",
    "\n",
    "# temporarily using fewer samples for slow pc\n",
    "#train_data = train_data.select(range(500))\n"
   ]
  },
  {
   "cell_type": "markdown",
   "id": "716f2306-7a8f-438c-8b96-419ffe07d09b",
   "metadata": {},
   "source": [
    "# setting up training args"
   ]
  },
  {
   "cell_type": "code",
   "execution_count": null,
   "id": "c2a377a8-7afe-4157-bfee-4ad950bac085",
   "metadata": {},
   "outputs": [],
   "source": [
    "data_collator = DataCollatorForSeq2Seq(tokenizer, model=model)\n",
    "\n",
    "# Training Arguments with adjustments for my slow laptop \n",
    "training_args = TrainingArguments(\n",
    "    output_dir=\"./results\",               \n",
    "    evaluation_strategy=\"epoch\",          # Evaluate after each epoch\n",
    "    learning_rate=5e-5,                   \n",
    "    per_device_train_batch_size=4,        # Smaller batch size\n",
    "    per_device_eval_batch_size=4,         # Smaller batch size\n",
    "    num_train_epochs=2,                   \n",
    "    weight_decay=0.01,                    \n",
    "    logging_dir=\"./logs\",                 \n",
    "    logging_steps=10,                     \n",
    "    save_steps=500,                       \n",
    "    gradient_accumulation_steps=8,        # Gradient accumulation for efficient training\n",
    "    fp16=True,                            # Mixed precision training to save memory\n",
    ")"
   ]
  },
  {
   "cell_type": "markdown",
   "id": "4027c85d-6c0d-4fc0-8172-b5c40989c8b7",
   "metadata": {},
   "source": [
    "# Training and saving model"
   ]
  },
  {
   "cell_type": "code",
   "execution_count": null,
   "id": "03feb139-fb85-4079-b427-2b9cac921708",
   "metadata": {},
   "outputs": [],
   "source": [
    "\n",
    "# Initialize the Trainer\n",
    "trainer = Trainer(\n",
    "    model=model,\n",
    "    args=training_args,\n",
    "    train_dataset=train_data,\n",
    "    eval_dataset=val_data,\n",
    "    tokenizer=tokenizer,\n",
    "    data_collator=data_collator\n",
    ")\n",
    "\n",
    "# Train the model\n",
    "try:\n",
    "    trainer.train()\n",
    "except Exception as e:\n",
    "    print(f\"Training failed: {e}\")\n",
    "\n",
    "# Save the trained model and tokenizer\n",
    "model.save_pretrained(\"./banglish-to-bengali-transliteration\")\n",
    "tokenizer.save_pretrained(\"./banglish-to-bengali-transliteration\")\n"
   ]
  },
  {
   "cell_type": "markdown",
   "id": "d661b9a0-77b4-4d62-af6e-7618c1c270ea",
   "metadata": {},
   "source": [
    "# predicting the transliteration"
   ]
  },
  {
   "cell_type": "code",
   "execution_count": null,
   "id": "e15fa255-81b9-4a1f-b8c6-b9e1397cd383",
   "metadata": {},
   "outputs": [],
   "source": [
    "def predict_banglish_to_bengali(text):\n",
    "    # Tokenize the input text\n",
    "    inputs = tokenizer(text, padding=\"max_length\", truncation=True, max_length=30, return_tensors=\"pt\")\n",
    "    \n",
    "    # Generate prediction\n",
    "    with torch.no_grad():\n",
    "        output = model.generate(inputs[\"input_ids\"], max_length=50, num_beams=4, early_stopping=True)\n",
    "    \n",
    "    # Decode the output tokens to Bengali\n",
    "    bengali_translation = tokenizer.decode(output[0], skip_special_tokens=True)\n",
    "    return bengali_translation\n",
    "\n",
    "\n",
    "# Sample Banglish input\n",
    "sample_banglish = \"ami banglay likhte chai\" \n",
    "\n",
    "# Get the translation from Banglish to Bengali\n",
    "predicted_bengali = predict_banglish_to_bengali(sample_banglish)\n",
    "\n",
    "# Output the results\n",
    "print(f\"Input Banglish: {sample_banglish}\")\n",
    "print(f\"Predicted Bengali: {predicted_bengali}\")\n",
    "# Input Banglish : \"ami banglay likhte chai\"\n",
    "# Predicted Bengali: \"আমি বাংলায় লিখতে চাই\""
   ]
  }
 ],
 "metadata": {
  "kernelspec": {
   "display_name": "Python 3 (ipykernel)",
   "language": "python",
   "name": "python3"
  },
  "language_info": {
   "codemirror_mode": {
    "name": "ipython",
    "version": 3
   },
   "file_extension": ".py",
   "mimetype": "text/x-python",
   "name": "python",
   "nbconvert_exporter": "python",
   "pygments_lexer": "ipython3",
   "version": "3.12.3"
  }
 },
 "nbformat": 4,
 "nbformat_minor": 5
}
