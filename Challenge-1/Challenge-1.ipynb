{
 "cells": [
  {
   "cell_type": "code",
   "execution_count": null,
   "id": "8f5961da-3a6a-4c3a-8b80-4c4364af8fd3",
   "metadata": {},
   "outputs": [],
   "source": [
    "import gc\n",
    "import torch\n",
    "from datasets import load_dataset\n",
    "from transformers import AutoTokenizer, AutoModelForSeq2SeqLM, Trainer, TrainingArguments, DataCollatorForSeq2Seq\n",
    "\n",
    "# Load the Banglish-to-Bengali dataset\n",
    "dataset = load_dataset(\"SKNahin/bengali-transliteration-data\")\n",
    "\n",
    "# Split into training and validation sets\n",
    "train_test_split = dataset['train'].train_test_split(test_size=0.2)\n",
    "train_data = train_test_split['train']\n",
    "val_data = train_test_split['test']\n"
   ]
  },
  {
   "cell_type": "markdown",
   "id": "8aab4e5b-e0f1-4f65-9011-1d51c3fe3fc1",
   "metadata": {},
   "source": [
    "# tokenizing and selecting model to preprocess and separate train_test data"
   ]
  },
  {
   "cell_type": "code",
   "execution_count": 1,
   "id": "e3055d56-47a6-44b9-be51-e831d0130af1",
   "metadata": {},
   "outputs": [
    {
     "ename": "NameError",
     "evalue": "name 'AutoTokenizer' is not defined",
     "output_type": "error",
     "traceback": [
      "\u001b[0;31m---------------------------------------------------------------------------\u001b[0m",
      "\u001b[0;31mNameError\u001b[0m                                 Traceback (most recent call last)",
      "Cell \u001b[0;32mIn[1], line 1\u001b[0m\n\u001b[0;32m----> 1\u001b[0m tokenizer \u001b[38;5;241m=\u001b[39m \u001b[43mAutoTokenizer\u001b[49m\u001b[38;5;241m.\u001b[39mfrom_pretrained(\u001b[38;5;124m\"\u001b[39m\u001b[38;5;124mgoogle/mt5-small\u001b[39m\u001b[38;5;124m\"\u001b[39m)\n\u001b[1;32m      2\u001b[0m model \u001b[38;5;241m=\u001b[39m AutoModelForSeq2SeqLM\u001b[38;5;241m.\u001b[39mfrom_pretrained(\u001b[38;5;124m\"\u001b[39m\u001b[38;5;124mgoogle/mt5-small\u001b[39m\u001b[38;5;124m\"\u001b[39m)\n\u001b[1;32m      4\u001b[0m \u001b[38;5;66;03m# Preprocessing function for tokenizing Banglish and Bengali text\u001b[39;00m\n",
      "\u001b[0;31mNameError\u001b[0m: name 'AutoTokenizer' is not defined"
     ]
    }
   ],
   "source": [
    "\n",
    "tokenizer = AutoTokenizer.from_pretrained(\"google/mt5-small\")\n",
    "model = AutoModelForSeq2SeqLM.from_pretrained(\"google/mt5-small\")\n",
    "\n",
    "# Preprocessing function for tokenizing Banglish and Bengali text\n",
    "def preprocess_data(example):\n",
    "    inputs = tokenizer(example['rm'], padding=\"max_length\", truncation=True, max_length=30)  # Shorter max_length\n",
    "    targets = tokenizer(example['bn'], padding=\"max_length\", truncation=True, max_length=30)  # Shorter max_length\n",
    "    inputs[\"labels\"] = targets[\"input_ids\"]\n",
    "    return inputs\n",
    "\n",
    "# Apply preprocessing to training and validation datasets\n",
    "train_data = train_data.map(preprocess_data, batched=True)\n",
    "val_data = val_data.map(preprocess_data, batched=True)\n",
    "\n",
    "# temporarily using fewer samples for slow pc\n",
    "train_data = train_data.select(range(500))\n",
    "\n"
   ]
  },
  {
   "cell_type": "code",
   "execution_count": null,
   "id": "c2a377a8-7afe-4157-bfee-4ad950bac085",
   "metadata": {},
   "outputs": [],
   "source": []
  }
 ],
 "metadata": {
  "kernelspec": {
   "display_name": "Python 3 (ipykernel)",
   "language": "python",
   "name": "python3"
  },
  "language_info": {
   "codemirror_mode": {
    "name": "ipython",
    "version": 3
   },
   "file_extension": ".py",
   "mimetype": "text/x-python",
   "name": "python",
   "nbconvert_exporter": "python",
   "pygments_lexer": "ipython3",
   "version": "3.12.3"
  }
 },
 "nbformat": 4,
 "nbformat_minor": 5
}
